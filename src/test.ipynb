{
 "cells": [
  {
   "cell_type": "code",
   "execution_count": 9,
   "metadata": {},
   "outputs": [],
   "source": [
    "import networkx as nx\n",
    "import pprint\n",
    "import matplotlib.pyplot as plt\n",
    "import random\n",
    "import numpy as np\n",
    "from sklearn.manifold import TSNE\n",
    "import torch\n",
    "import pandas as pd\n",
    "from sklearn.preprocessing import MinMaxScaler\n",
    "from gensim.models import Word2Vec as word2vec\n",
    "from collections import OrderedDict"
   ]
  },
  {
   "cell_type": "code",
   "execution_count": 10,
   "metadata": {},
   "outputs": [
    {
     "name": "stdout",
     "output_type": "stream",
     "text": [
      "array([[ 0,  8, 26, 22],\n",
      "       [ 8,  0, 74, 59],\n",
      "       [26, 74,  0, 46],\n",
      "       [22, 59, 46,  0]])\n"
     ]
    }
   ],
   "source": [
    "# 計算機の台数\n",
    "N = 4\n",
    "# 交流行列の成分の取る値の範囲\n",
    "range_min, range_max = 1, 100 # 乱数の範囲\n",
    "\n",
    "# 計算機の担当するニューロンを格納するdictを作成\n",
    "nodes = OrderedDict()\n",
    "for i in range(N):\n",
    "    nodes[\"計算機\" + str(i)] = []\n",
    "\n",
    "# print(nodes)\n",
    "\n",
    "\n",
    "# 乱数で対称な交流行列を生成\n",
    "comm_matrix = [[0.0 for _ in range(N)] for _ in range(N)]\n",
    "for i in range(N):\n",
    "    for j in range(i, N):\n",
    "        if i == j:\n",
    "            comm_matrix[i][j] = 0\n",
    "        else:\n",
    "            comm_matrix[i][j] = int(random.uniform(range_min, range_max))\n",
    "            comm_matrix[j][i] = comm_matrix[i][j]\n",
    "comm_matrix = np.array(comm_matrix)\n",
    "pprint.pprint(comm_matrix)"
   ]
  },
  {
   "cell_type": "code",
   "execution_count": 11,
   "metadata": {},
   "outputs": [
    {
     "name": "stdout",
     "output_type": "stream",
     "text": [
      "'{1: [2, 3, 4], 2: [1, 3, 4], 3: [1, 2, 4], 4: [1, 2, 3]}'\n"
     ]
    },
    {
     "data": {
      "image/png": "[encoded data removed]",
      "text/plain": [
       "<Figure size 640x480 with 1 Axes>"
      ]
     },
     "metadata": {},
     "output_type": "display_data"
    }
   ],
   "source": [
    "G = nx.Graph() # 無向グラフ\n",
    "\n",
    "node_list = list(range(N))\n",
    "#ノードのラベルを1からNにする\n",
    "node_list = [node+1 for node in node_list]\n",
    "\n",
    "# nodeデータの追加\n",
    "G.add_nodes_from(node_list)\n",
    "\n",
    "# edgeの追加\n",
    "# 重み（通信コスト）をcomm_matrix(交流行列)より取得し\n",
    "for i in range(1, N):\n",
    "    for j in range(1, N):\n",
    "        if i != j+1:\n",
    "            G.add_edge(i, j+1, weight=comm_matrix[i-1][j])\n",
    "\n",
    "# グラフから隣接リストを取得\n",
    "adj_list = nx.to_dict_of_lists(G)\n",
    "pprint.pprint(f'{adj_list}')\n",
    "\n",
    "# グラフの描画\n",
    "pos = nx.spring_layout(G)\n",
    "edge_labels = {(u, v): d['weight'] for u, v, d in G.edges(data=True)}\n",
    "nx.draw_networkx_edge_labels(G, pos, edge_labels=edge_labels)\n",
    "nx.draw_networkx(G, pos, with_labels=True, node_color='lightblue', edge_color=\"lightgreen\")\n",
    "\n",
    "plt.show()"
   ]
  },
  {
   "cell_type": "code",
   "execution_count": 12,
   "metadata": {},
   "outputs": [
    {
     "name": "stdout",
     "output_type": "stream",
     "text": [
      "Shortest Path: [1, 4]\n",
      "Weight: 22\n"
     ]
    }
   ],
   "source": [
    "# 出発地ノードと目的地ノードを設定\n",
    "start = 1\n",
    "end = 4\n",
    "\n",
    "# ダイクストラ法で最短経路とその重みを求める\n",
    "shortest_path = nx.dijkstra_path(G, start, end)\n",
    "shortest_path_weight = nx.dijkstra_path_length(G, start, end)\n",
    "\n",
    "# 出力\n",
    "print(\"Shortest Path:\", shortest_path)\n",
    "print(\"Weight:\", shortest_path_weight)"
   ]
  },
  {
   "cell_type": "code",
   "execution_count": 13,
   "metadata": {},
   "outputs": [
    {
     "name": "stdout",
     "output_type": "stream",
     "text": [
      "{'pc1': ['n11', 'n8', 'n10'],\n",
      " 'pc2': ['n9', 'n3', 'n4'],\n",
      " 'pc3': ['n6', 'n10', 'n1'],\n",
      " 'pc4': ['n6', 'n8', 'n9']}\n"
     ]
    }
   ],
   "source": [
    "# 計算機ととニューロンを定義\n",
    "pc = [\"pc1\", \"pc2\", \"pc3\", \"pc4\"]\n",
    "neauron = [\"n1\", \"n2\", \"n3\", \"n4\", \"n5\", \"n6\", \"n7\", \"n8\", \"n9\", \"n10\", \"n11\", \"n12\"]\n",
    "\n",
    "# 各人に3つのタスクをランダムに割り当てる\n",
    "assignments = {person: random.sample(neauron, 3) for person in pc}\n",
    "\n",
    "# 割り当て結果を表示\n",
    "pprint.pprint(assignments)"
   ]
  }
 ],
 "metadata": {
  "kernelspec": {
   "display_name": "venv",
   "language": "python",
   "name": "venv"
  },
  "language_info": {
   "codemirror_mode": {
    "name": "ipython",
    "version": 3
   },
   "file_extension": ".py",
   "mimetype": "text/x-python",
   "name": "python",
   "nbconvert_exporter": "python",
   "pygments_lexer": "ipython3",
   "version": "3.8.10"
  },
  "orig_nbformat": 4
 },
 "nbformat": 4,
 "nbformat_minor": 2
}
