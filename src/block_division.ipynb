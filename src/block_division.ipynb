{
 "cells": [
  {
   "cell_type": "code",
   "execution_count": 126,
   "metadata": {},
   "outputs": [],
   "source": [
    "import networkx as nx\n",
    "import random\n",
    "import matplotlib.pyplot as plt\n",
    "import numpy as np"
   ]
  },
  {
   "cell_type": "code",
   "execution_count": 127,
   "metadata": {},
   "outputs": [],
   "source": [
    "def generate_exchange_matrix(size: int, graph) -> list:\n",
    "    \"\"\"ノード間の通信コストを表す交流行列を作成\n",
    "\n",
    "    Args:\n",
    "        size (int): 行列のサイズ size x size\n",
    "        graph: ネットワークトポロジ- (networkxのグラフ)\n",
    "    Returns:\n",
    "        list: n x nの正方行列\n",
    "    \"\"\"\n",
    "    \n",
    "    # graphの隣接リストを取得\n",
    "    adj_list = nx.to_dict_of_lists(graph)\n",
    "    # 通信コストの行列を作成\n",
    "    matrix = np.zeros((size, size))\n",
    "    for i in range(size):\n",
    "        for j in range(size):\n",
    "            # 自身との通信は0\n",
    "            if i == j:\n",
    "                matrix[i][j] = 0\n",
    "            # 隣接している場合は1~100の乱数(通信コストを与える)\n",
    "            # (j+1)が隣接リストの(i+1)番目の要素(配列)に含まれているかどうかで判定\n",
    "            elif j + 1 in adj_list[i + 1]:\n",
    "                matrix[i][j] = random.randint(1, 100)\n",
    "            # 隣接していない場合は-1(通信できないので)\n",
    "            else:\n",
    "                matrix[i][j] = -1\n",
    "\n",
    "    # 対称性を持たせる\n",
    "    for i in range(size):\n",
    "        for j in range(size):\n",
    "            if i < j:\n",
    "                matrix[i][j] = matrix[j][i]\n",
    "                \n",
    "\n",
    "    for i in range(size):\n",
    "        for j in range(size):\n",
    "            if j+1 in adj_list[i+1]:\n",
    "                graph.add_edge(i+1, j+1, weight=matrix[i][j])\n",
    "    \n",
    "    return matrix"
   ]
  },
  {
   "cell_type": "code",
   "execution_count": 128,
   "metadata": {},
   "outputs": [],
   "source": [
    "def generate_random_circular_graph(num_nodes: int)-> nx.Graph:\n",
    "    \"\"\"ネットワークトポロジーを表すグラフを作成\n",
    "\n",
    "    Args:\n",
    "        num_nodes (int): ノードの数\n",
    "\n",
    "    Returns:\n",
    "        nx.Graph: トポロジーを表すグラフ\n",
    "    \"\"\"\n",
    "    \n",
    "    G = nx.Graph()  # Create an empty graph\n",
    "\n",
    "    # Add nodes to the graph\n",
    "    G.add_nodes_from(range(1, num_nodes+1))\n",
    "    \n",
    "    # Connect edges randomly for circular structure\n",
    "    for i in range(1, num_nodes+1):\n",
    "        G.add_edge(i, i % num_nodes + 1)\n",
    "\n",
    "    # Connect additional random inside edges\n",
    "    for i in range(1, num_nodes+1):\n",
    "        for j in range(i+1, num_nodes+1):\n",
    "            if random.random() < 0.5:  # Probability of connecting two nodes\n",
    "                G.add_edge(i, j)\n",
    "\n",
    "    return G"
   ]
  },
  {
   "cell_type": "code",
   "execution_count": 129,
   "metadata": {},
   "outputs": [],
   "source": [
    "def weightintg_graph(graph: nx.graph, exchange_matrix: list):\n",
    "    \"\"\"グラフに重み付け(通信コスト)を与える\n",
    "\n",
    "    Args:\n",
    "        graph (nx.graph): 重み付きグラフ(トポロジー)\n",
    "        exchange_matrix (list): 通信コストを表す交流行列\n",
    "    \"\"\"\n",
    "    \n",
    "    num_nodes = len(exchange_matrix)\n",
    "    adj_list = nx.to_dict_of_lists(graph)\n",
    "    \n",
    "    for i in range(num_nodes):\n",
    "        for j in range(num_nodes):\n",
    "            if j+1 in adj_list[i+1]:\n",
    "                graph.add_edge(i+1, j+1, weight=exchange_matrix[i][j])"
   ]
  },
  {
   "cell_type": "code",
   "execution_count": 130,
   "metadata": {},
   "outputs": [
    {
     "name": "stdout",
     "output_type": "stream",
     "text": [
      "交流行列[[ 0. 19. -1.  9.]\n",
      " [19.  0. 84. -1.]\n",
      " [-1. 84.  0. 91.]\n",
      " [ 9. -1. 91.  0.]]\n"
     ]
    },
    {
     "data": {
      "image/png": "[encoded data removed]",
      "text/plain": [
       "<Figure size 640x480 with 1 Axes>"
      ]
     },
     "metadata": {},
     "output_type": "display_data"
    }
   ],
   "source": [
    "# ネットワークトポロジーを作成\n",
    "G = generate_random_circular_graph(4)\n",
    "\n",
    "# 交流行列を作成\n",
    "exchange_matrix = generate_exchange_matrix(4, G)\n",
    "\n",
    "# グラフのエッジに通信コスト(交流行列より)を付与\n",
    "weightintg_graph(G, exchange_matrix)\n",
    "\n",
    "# グラフの描画\n",
    "pos = nx.circular_layout(G)\n",
    "weights = nx.get_edge_attributes(G, 'weight').values()\n",
    "nx.draw_networkx(G, edge_color = weights)\n",
    "edge_labels = nx.get_edge_attributes(G, 'weight')\n",
    "nx.draw_networkx_edge_labels(G, pos, edge_labels=edge_labels, font_color='red')\n",
    "\n",
    "print(f'交流行列{exchange_matrix}')"
   ]
  }
 ],
 "metadata": {
  "kernelspec": {
   "display_name": "venv",
   "language": "python",
   "name": "venv"
  },
  "language_info": {
   "codemirror_mode": {
    "name": "ipython",
    "version": 3
   },
   "file_extension": ".py",
   "mimetype": "text/x-python",
   "name": "python",
   "nbconvert_exporter": "python",
   "pygments_lexer": "ipython3",
   "version": "3.8.10"
  },
  "orig_nbformat": 4
 },
 "nbformat": 4,
 "nbformat_minor": 2
}
